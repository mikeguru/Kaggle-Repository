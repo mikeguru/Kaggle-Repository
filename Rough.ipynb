{
 "cells": [
  {
   "cell_type": "code",
   "execution_count": 4,
   "metadata": {},
   "outputs": [
    {
     "name": "stdout",
     "output_type": "stream",
     "text": [
      "Enter your name: \n",
      "Aarsh\n",
      "\n",
      "Hello Aarsh!\n",
      "What are you upto today?\n"
     ]
    }
   ],
   "source": [
    "print('Enter your name: ')\n",
    "s = input()\n",
    "print('')\n",
    "print('Hello '+s+'!')\n",
    "print('What are you upto today?')"
   ]
  },
  {
   "cell_type": "code",
   "execution_count": 5,
   "metadata": {},
   "outputs": [
    {
     "name": "stdout",
     "output_type": "stream",
     "text": [
      "enter the number (under 10):\n",
      "6\n",
      "Good job Aarsh!\n"
     ]
    }
   ],
   "source": [
    "print('enter the number (under 10):')\n",
    "n = int(input())\n",
    "\n",
    "if n<10:\n",
    "    print('Good job Aarsh!')\n",
    "else:\n",
    "    print('Very bad Aarsh!')"
   ]
  },
  {
   "cell_type": "code",
   "execution_count": 9,
   "metadata": {},
   "outputs": [
    {
     "name": "stdout",
     "output_type": "stream",
     "text": [
      "enter first number (under 10):\n",
      "6\n",
      "enter second number (under 10):\n",
      "4\n",
      "\n",
      "Addition: 6 + 4 = 10\n",
      "\n",
      "Subtraction: 6 - 4 = 2\n",
      "\n",
      "Multiplication: 6 x 4 = 24\n"
     ]
    }
   ],
   "source": [
    "print('enter first number (under 10):')\n",
    "a = int(input())\n",
    "print('enter second number (under 10):')\n",
    "b = int(input())\n",
    "print('')\n",
    "print('Addition: ' + str(a) +' + '+ str(b) +' = '+ str(a+b))\n",
    "print('')\n",
    "print('Subtraction: ' +str(a) +' - '+ str(b) +' = '+ str(a-b))\n",
    "print('')\n",
    "print('Multiplication: ' +str(a) +' x '+ str(b) +' = '+ str(a*b))"
   ]
  },
  {
   "cell_type": "code",
   "execution_count": 8,
   "metadata": {},
   "outputs": [
    {
     "name": "stdout",
     "output_type": "stream",
     "text": [
      "enter number (under 10):\n",
      "6\n",
      "\n",
      "6 x 1 = 6\n",
      "6 x 2 = 12\n",
      "6 x 3 = 18\n",
      "6 x 4 = 24\n",
      "6 x 5 = 30\n",
      "6 x 6 = 36\n",
      "6 x 7 = 42\n",
      "6 x 8 = 48\n",
      "6 x 9 = 54\n",
      "6 x 10 = 60\n"
     ]
    }
   ],
   "source": [
    "print('enter number (under 10):')\n",
    "n = int(input())\n",
    "print('')\n",
    "for i in range(10):\n",
    "    print(str(n)+' x '+str(i+1)+' = '+str((i+1)*n))"
   ]
  },
  {
   "cell_type": "code",
   "execution_count": 3,
   "metadata": {},
   "outputs": [
    {
     "name": "stdout",
     "output_type": "stream",
     "text": [
      "enter number (under 1000):\n",
      "784\n",
      "----\n",
      "place value of 4 : 4\n",
      "face value of 4 : 4\n",
      "\n",
      "place value of 8 : 80\n",
      "face value of 8 : 8\n",
      "\n",
      "place value of 7 : 700\n",
      "face value of 7 : 7\n"
     ]
    }
   ],
   "source": [
    "print('enter number (under 1000):')\n",
    "n = int(input())\n",
    "print('----')\n",
    "po = n%10\n",
    "pt = (n-po)%100\n",
    "ph = (n-pt-po)%1000\n",
    "\n",
    "fo = po\n",
    "ft = int((n-ph-po)/10)\n",
    "fh = int((n-pt-po)/100)\n",
    "\n",
    "print('place value of '+str(fo)+ ' : '+ str(po))\n",
    "print('face value of '+str(fo)+ ' : '+ str(fo))\n",
    "print('')\n",
    "if pt >0:\n",
    "    print('place value of '+str(ft)+ ' : '+ str(pt))\n",
    "    print('face value of '+str(ft)+ ' : '+ str(ft))\n",
    "print('')\n",
    "if ph >0:\n",
    "    print('place value of '+str(fh)+ ' : '+ str(ph))\n",
    "    print('face value of '+str(fh)+ ' : '+ str(fh))"
   ]
  }
 ],
 "metadata": {
  "kernelspec": {
   "display_name": "Python 3",
   "language": "python",
   "name": "python3"
  },
  "language_info": {
   "codemirror_mode": {
    "name": "ipython",
    "version": 3
   },
   "file_extension": ".py",
   "mimetype": "text/x-python",
   "name": "python",
   "nbconvert_exporter": "python",
   "pygments_lexer": "ipython3",
   "version": "3.6.3"
  }
 },
 "nbformat": 4,
 "nbformat_minor": 2
}
